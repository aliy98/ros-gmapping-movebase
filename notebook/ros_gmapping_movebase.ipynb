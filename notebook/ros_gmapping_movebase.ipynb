{
 "cells": [
  {
   "cell_type": "markdown",
   "id": "438b26c7",
   "metadata": {},
   "source": [
    "# ros_gmapping_movebase\n",
    "\n",
    "## Introduction\n",
    "\n",
    "This jupyter notebook serves as a user interface for a rospackage that implements three behaviors for controlling a simulated mobile robot, which can provide us the map of the environment using gmapping and movebase rospackages.\n",
    "\n",
    "Robot behaviors are these three options:\n",
    "\n",
    "1. Choosing a goal point and using the movebase node for path planning\n",
    "2. Controlling the robot through direction commands with and without obstacle avoidance\n"
   ]
  },
  {
   "cell_type": "markdown",
   "id": "b985acdd",
   "metadata": {},
   "source": [
    "<div align=\"left\">\n",
    "<img src=\"preview.png\" width=\"75%\" height=\"75%\">\n",
    "</div>"
   ]
  },
  {
   "cell_type": "markdown",
   "id": "2fe1575f",
   "metadata": {},
   "source": [
    "## Usage\n",
    "\n",
    "### Installation\n",
    "\n",
    "Here is the instruction for installing the package:\n",
    "\n",
    "```bashscript\n",
    "$ mkdir -p catkin_ws/src\n",
    "$ cd catkin_ws/src\n",
    "$ git clone https://github.com/aliy98/ros_gmapping_movebase\n",
    "$ cd ..\n",
    "$ source /opt/ros/<distro>/setup.bash\n",
    "$ catkin_make\n",
    "```\n",
    "\n",
    "### Running\n",
    "\n",
    "You can initialize the simulation environment in gazebo and run rviz in the same time using the commands below\n",
    "\n",
    "```bashscript\n",
    "$ source devel/setup.bash\n",
    "$ roslaunch final_assignment simulation_gmapping.launch\n",
    "```\n",
    "\n",
    "In order to run the *movebase node*, open a new terminal in the same directory and run the following commands:\n",
    "\n",
    "```bashscript\n",
    "$ source devel/setup.bash\n",
    "$ roslaunch final_assignment move_base.launch\n",
    "```\n",
    "\n",
    "For initializing the rospackage which is connected to this jupyter notebook, in a new terminal run the following commands:\n",
    "\n",
    "```bashscript\n",
    "$ source devel/setup.bash\n",
    "$ roslaunch final_assignment master.launch\n",
    "```\n",
    "\n",
    "Now you can keep running the following cells for using this interface with the rospackage"
   ]
  },
  {
   "cell_type": "markdown",
   "id": "7790e9a1",
   "metadata": {},
   "source": [
    "## Importing Required Modules"
   ]
  },
  {
   "cell_type": "code",
   "execution_count": 1,
   "id": "1aa38692",
   "metadata": {},
   "outputs": [],
   "source": [
    "import rospy\n",
    "from std_srvs.srv import *\n",
    "from std_msgs.msg import String\n",
    "from nav_msgs.msg import Odometry\n",
    "from tf.transformations import quaternion_matrix\n",
    "import jupyros as jr\n",
    "import tf\n",
    "import os\n",
    "import ipywidgets as widgets\n",
    "from ipywidgets import Button, Output, Layout, ButtonStyle, GridBox, VBox, HBox\n",
    "from IPython.display import display\n",
    "import matplotlib.pyplot as plt\n",
    "import numpy as np\n",
    "from matplotlib.animation import FuncAnimation"
   ]
  },
  {
   "cell_type": "markdown",
   "id": "4d95595c",
   "metadata": {},
   "source": [
    "## Defining Required Classes\n",
    "There are 5 classes that are used in this jupyter notebook to make it more modular and easy to use. In the next cells we will take instances from these classes in order to use the interface for this rospackage."
   ]
  },
  {
   "cell_type": "code",
   "execution_count": 2,
   "id": "bfc5412b",
   "metadata": {},
   "outputs": [],
   "source": [
    "class SwitchMode:\n",
    "    def __init__(self):\n",
    "        self.w = widgets.RadioButtons(\n",
    "            options=['1. goal point', '2. control with direction', \n",
    "                     '3. control with direction and obstacle avoidance'],\n",
    "            layout={'width': 'max-content'}, \n",
    "            disabled=False\n",
    "        )\n",
    "        self.b = Button(description='Apply Mode',layout=Layout(width='auto', grid_area='b'),style=ButtonStyle(button_color='lightblue'))\n",
    "        self.o = Output()\n",
    "        \n",
    "    def on_button_clicked(self, b):\n",
    "        with self.o:\n",
    "            if self.w.value == '1. goal point':\n",
    "                rospy.set_param('robot_state', '1')\n",
    "            elif self.w.value == '2. control with direction':\n",
    "                rospy.set_param('robot_state', '2')\n",
    "            elif self.w.value == '3. control with direction and obstacle avoidance':\n",
    "                rospy.set_param('robot_state', '3')\n",
    "                "
   ]
  },
  {
   "cell_type": "code",
   "execution_count": 3,
   "id": "f1c02b2f",
   "metadata": {},
   "outputs": [],
   "source": [
    "class SendTarget:\n",
    "    def __init__(self):\n",
    "        self.goal = widgets.Text()\n",
    "        self.b = Button(description='Apply Goal Point',layout=Layout(width='auto', grid_area='b'),style=ButtonStyle(button_color='lightblue'))\n",
    "        self.o = Output()\n",
    "        self.pub = rospy.Publisher('/movebase_client_goal', String, queue_size=10)\n",
    "        \n",
    "    def on_button_clicked(self, b):\n",
    "        with self.o:\n",
    "            self.pub.publish(self.goal.value)\n",
    "            rospy.set_param('input_target', '1')\n",
    "            \n",
    "    def main(self):\n",
    "        self.b.on_click(self.on_button_clicked)\n",
    "        display(self.goal)"
   ]
  },
  {
   "cell_type": "code",
   "execution_count": 4,
   "id": "590f2411",
   "metadata": {},
   "outputs": [],
   "source": [
    "class TargetsAnalysis:\n",
    "    def __init__(self):\n",
    "        self.reached_target = 0\n",
    "        self.not_reached_target = 0\n",
    "        self.fig = plt.figure(figsize=(8,2))\n",
    "        self.b = Button(description='Reload Plot',layout=Layout(width='auto', grid_area='b'),style=ButtonStyle(button_color='lightblue'))\n",
    "        self.o = Output()\n",
    "        \n",
    "    def get_target_param(self):\n",
    "        if (rospy.has_param('/reached_targets')):\n",
    "            self.reached_target = rospy.get_param('/reached_targets')\n",
    "        if (rospy.has_param('/not_reached_targets')):\n",
    "            self.not_reached_target = rospy.get_param('/not_reached_targets')\n",
    "            \n",
    "    def plot_init(self):\n",
    "        self.axes_2 = self.fig.add_axes([0.2, 0.3, 0.7, 0.4])\n",
    "        self.axes_2.set_title('Number of not_reached and reached Targets')\n",
    "        self.get_target_param()\n",
    "        self.axes_2.barh(('reached\\ntargets', 'not_reached\\ntargets'),(self.reached_target, self.not_reached_target),color=[ 'green','red'])\n",
    "    \n",
    "    def on_button_clicked(self, b):\n",
    "        with self.o:\n",
    "            self.axes_2.cla()\n",
    "            self.plot_init()"
   ]
  },
  {
   "cell_type": "code",
   "execution_count": 5,
   "id": "482f2a32",
   "metadata": {},
   "outputs": [],
   "source": [
    "class Visualiser:\n",
    "    def __init__(self):\n",
    "        self.fig = plt.figure(figsize=(5,3))\n",
    "        self.ax = self.fig.add_axes([0.2,0.2,0.7,0.7]) # here is where the sectioning of the axis of the figure is done \n",
    "        self.ax.set_title('Robot Footprint')\n",
    "        self.ax.set_xlabel('X Coordinate')\n",
    "        self.ax.set_ylabel('Y Coordinate')\n",
    "        self.ln, = plt.plot([], [], 'ro')\n",
    "        self.x_data, self.y_data = [] , []\n",
    " \n",
    "    def plot_init(self):\n",
    "        self.ax.set_xlim(-10, 10)\n",
    "        self.ax.set_ylim(-10, 10)\n",
    "        return self.ln\n",
    "\n",
    "    def odom_callback(self, msg):\n",
    "        self.y_data.append(msg.pose.pose.position.y)\n",
    "        self.x_data.append(msg.pose.pose.position.x)\n",
    "\n",
    "    def update_plot(self, frame):\n",
    "        self.ln.set_data(self.x_data, self.y_data)\n",
    "        return self.ln"
   ]
  },
  {
   "cell_type": "code",
   "execution_count": 6,
   "id": "66f28e97",
   "metadata": {},
   "outputs": [],
   "source": [
    "class TeleopButtons:\n",
    "    def __init__(self):\n",
    "        self.b1 = Button(description='u',layout=Layout(width='auto', grid_area='b1'),style=ButtonStyle(button_color='lightblue'))\n",
    "        self.o1 = Output()\n",
    "        self.b2 = Button(description='j',layout=Layout(width='auto', grid_area='b2'),style=ButtonStyle(button_color='salmon'))\n",
    "        self.o2 = Output()\n",
    "        self.b3 = Button(description='m',layout=Layout(width='auto', grid_area='b3'),style=ButtonStyle(button_color='lightblue'))\n",
    "        self.o3 = Output()\n",
    "        self.b4 = Button(description='i',layout=Layout(width='auto', grid_area='b4'),style=ButtonStyle(button_color='salmon'))\n",
    "        self.o4 = Output()\n",
    "        self.b5 = Button(description='k',layout=Layout(width='auto', grid_area='b5'),style=ButtonStyle(button_color='lightblue'))\n",
    "        self.o5 = Output()\n",
    "        self.b6 = Button(description=',',layout=Layout(width='auto', grid_area='b5'),style=ButtonStyle(button_color='salmon'))\n",
    "        self.o6 = Output()\n",
    "        self.b7 = Button(description='o',layout=Layout(width='auto', grid_area='b5'),style=ButtonStyle(button_color='lightblue'))\n",
    "        self.o7 = Output()\n",
    "        self.b8 = Button(description='l',layout=Layout(width='auto', grid_area='b5'),style=ButtonStyle(button_color='salmon'))\n",
    "        self.o8 = Output()\n",
    "        self.b9 = Button(description='.',layout=Layout(width='auto', grid_area='b5'),style=ButtonStyle(button_color='lightblue'))\n",
    "        self.o9 = Output()\n",
    "        self.pub = rospy.Publisher('/teleop_input_key', String, queue_size=10)\n",
    "\n",
    "    def on_button_clicked1(self, b):\n",
    "        with self.o1:\n",
    "            self.pub.publish('u')\n",
    "    def on_button_clicked2(self, b):\n",
    "        with self.o2:\n",
    "            self.pub.publish('j')\n",
    "    def on_button_clicked3(self, b):\n",
    "        with self.o3:\n",
    "            self.pub.publish('m')\n",
    "    def on_button_clicked4(self, b):\n",
    "        with self.o4:\n",
    "            self.pub.publish('i')\n",
    "    def on_button_clicked5(self, b):\n",
    "        with self.o5:\n",
    "            self.pub.publish('k')\n",
    "    def on_button_clicked6(self, b):\n",
    "        with self.o6:\n",
    "            self.pub.publish(',')\n",
    "    def on_button_clicked7(self, b):\n",
    "        with self.o7:\n",
    "            self.pub.publish('o')\n",
    "    def on_button_clicked8(self, b):\n",
    "        with self.o8:\n",
    "            self.pub.publish('l')\n",
    "    def on_button_clicked9(self, b):\n",
    "        with self.o9:\n",
    "            self.pub.publish('.')\n",
    "\n",
    "    def main(self):\n",
    "        self.b1.on_click(self.on_button_clicked1)\n",
    "        self.b2.on_click(self.on_button_clicked2)\n",
    "        self.b3.on_click(self.on_button_clicked3)\n",
    "        self.b4.on_click(self.on_button_clicked4)\n",
    "        self.b5.on_click(self.on_button_clicked5)\n",
    "        self.b6.on_click(self.on_button_clicked6)\n",
    "        self.b7.on_click(self.on_button_clicked7)\n",
    "        self.b8.on_click(self.on_button_clicked8)\n",
    "        self.b9.on_click(self.on_button_clicked9)           "
   ]
  },
  {
   "cell_type": "markdown",
   "id": "802a577b",
   "metadata": {},
   "source": [
    "## Switching to the different modalities\n",
    "\n",
    "There are two cells for this section. First you choose the robot behaviour with the radio button and then run the second cell to apply it to the robot, then you can move to the correspinding cell for that behaviour. In this section we use a rosparam which is **/robot_state** to change robot behaviour."
   ]
  },
  {
   "cell_type": "code",
   "execution_count": 8,
   "id": "25e14779",
   "metadata": {
    "scrolled": false
   },
   "outputs": [
    {
     "data": {
      "application/vnd.jupyter.widget-view+json": {
       "model_id": "790b4afb05c945f2a2cc86238f7e5b44",
       "version_major": 2,
       "version_minor": 0
      },
      "text/plain": [
       "RadioButtons(layout=Layout(width='max-content'), options=('1. goal point', '2. control with direction', '3. co…"
      ]
     },
     "metadata": {},
     "output_type": "display_data"
    },
    {
     "data": {
      "application/vnd.jupyter.widget-view+json": {
       "model_id": "ecf2d439f89c45ff91289aaf498c5452",
       "version_major": 2,
       "version_minor": 0
      },
      "text/plain": [
       "Button(description='Apply Mode', layout=Layout(grid_area='b', width='auto'), style=ButtonStyle(button_color='l…"
      ]
     },
     "metadata": {},
     "output_type": "display_data"
    }
   ],
   "source": [
    "rospy.init_node('jupyter_node')  \n",
    "sm = SwitchMode()\n",
    "sm.b.on_click(sm.on_button_clicked)\n",
    "display(sm.w)\n",
    "sm.b"
   ]
  },
  {
   "cell_type": "markdown",
   "id": "86909f5f",
   "metadata": {},
   "source": [
    "## 1. Goal point (for the first mode)\n",
    "\n",
    "In this part you can publish a goal point to **/movebase_client_goal** topic, which is subscribed by *movebase_client node*. This goal point will be sent to *movebase node* with **/move_base/action_topics** for path-planning and also using this topic we can detect if the goal point has been reached or not. The numbers of reached and not reached targets are saved in two rosparams so that we can visualize them in a bar graph. "
   ]
  },
  {
   "cell_type": "code",
   "execution_count": 9,
   "id": "f6abaa59",
   "metadata": {
    "scrolled": false
   },
   "outputs": [
    {
     "name": "stdout",
     "output_type": "stream",
     "text": [
      "enter goal position in format x,y:\n"
     ]
    },
    {
     "data": {
      "application/vnd.jupyter.widget-view+json": {
       "model_id": "427933165a3b4d92b77b0123fc322533",
       "version_major": 2,
       "version_minor": 0
      },
      "text/plain": [
       "Text(value='')"
      ]
     },
     "metadata": {},
     "output_type": "display_data"
    },
    {
     "data": {
      "application/vnd.jupyter.widget-view+json": {
       "model_id": "6e6a536900c744ddab3089f141f2f355",
       "version_major": 2,
       "version_minor": 0
      },
      "text/plain": [
       "Button(description='Apply Goal Point', layout=Layout(grid_area='b', width='auto'), style=ButtonStyle(button_co…"
      ]
     },
     "metadata": {},
     "output_type": "display_data"
    }
   ],
   "source": [
    "print(\"enter goal position in format x,y:\")\n",
    "st = SendTarget()\n",
    "st.main()\n",
    "st.b"
   ]
  },
  {
   "cell_type": "code",
   "execution_count": 21,
   "id": "bc6f3021",
   "metadata": {
    "scrolled": false
   },
   "outputs": [
    {
     "data": {
      "application/vnd.jupyter.widget-view+json": {
       "model_id": "72a947fd20654dedb1c511d65d720e4f",
       "version_major": 2,
       "version_minor": 0
      },
      "image/png": "[encoded data removed]",
      "text/html": [
       "\n",
       "            <div style=\"display: inline-block;\">\n",
       "                <div class=\"jupyter-widgets widget-label\" style=\"text-align: center;\">\n",
       "                    Figure\n",
       "                </div>\n",
       "                <img src='data:image/png;base64,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' width=800.0/>\n",
       "            </div>\n",
       "        "
      ],
      "text/plain": [
       "Canvas(toolbar=Toolbar(toolitems=[('Home', 'Reset original view', 'home', 'home'), ('Back', 'Back to previous …"
      ]
     },
     "metadata": {},
     "output_type": "display_data"
    },
    {
     "data": {
      "application/vnd.jupyter.widget-view+json": {
       "model_id": "d528baa76d894c20bbb6a7ca6b808a64",
       "version_major": 2,
       "version_minor": 0
      },
      "text/plain": [
       "Button(description='Reload Plot', layout=Layout(grid_area='b', width='auto'), style=ButtonStyle(button_color='…"
      ]
     },
     "metadata": {},
     "output_type": "display_data"
    }
   ],
   "source": [
    "%matplotlib widget\n",
    "ta = TargetsAnalysis()\n",
    "ta.plot_init()\n",
    "ta.b.on_click(ta.on_button_clicked)\n",
    "plt.show()\n",
    "ta.b"
   ]
  },
  {
   "cell_type": "markdown",
   "id": "862abc2c",
   "metadata": {},
   "source": [
    "## 2. Move with directions (for the second and third modes)\n",
    "it can implement two behaviours on robot:\n",
    "1. moving without obstacle avoidance: user can move the robot using keys it publishes the desired movements to cmd_vel topic\n",
    "\n",
    "2. moveing with obstacle avoidance: subscribes scan topic and uses it to detect obstacles. user can move the robot using keys and it also avoids the robot from colliding the obstacles"
   ]
  },
  {
   "cell_type": "code",
   "execution_count": 18,
   "id": "f6525668",
   "metadata": {
    "scrolled": true
   },
   "outputs": [
    {
     "name": "stdout",
     "output_type": "stream",
     "text": [
      "input direction:\n"
     ]
    },
    {
     "data": {
      "application/vnd.jupyter.widget-view+json": {
       "model_id": "5539a31919af485f93a9dcf0af7594f6",
       "version_major": 2,
       "version_minor": 0
      },
      "text/plain": [
       "HBox(children=(VBox(children=(Button(description='u', layout=Layout(grid_area='b1', width='auto'), style=Butto…"
      ]
     },
     "metadata": {},
     "output_type": "display_data"
    }
   ],
   "source": [
    "print(\"input direction:\")\n",
    "tb = TeleopButtons()\n",
    "tb.main()\n",
    "HBox([VBox([tb.b1, tb.b2, tb.b3]),VBox([tb.b4, tb.b5, tb.b6]),VBox([tb.b7, tb.b8, tb.b9])])"
   ]
  },
  {
   "cell_type": "markdown",
   "id": "4fd7ea8f",
   "metadata": {},
   "source": [
    "## Visualiser\n",
    "In this jupyter notebook there is also the posibility of visualizing the position of the robot in a 2D plot. Robot position can be read from the topic **/odom**. "
   ]
  },
  {
   "cell_type": "code",
   "execution_count": 19,
   "id": "bdd2138a",
   "metadata": {
    "scrolled": true
   },
   "outputs": [
    {
     "data": {
      "application/vnd.jupyter.widget-view+json": {
       "model_id": "ae2ca9180b7c4a5e800b220f3413daf5",
       "version_major": 2,
       "version_minor": 0
      },
      "image/png": "[encoded data removed]",
      "text/html": [
       "\n",
       "            <div style=\"display: inline-block;\">\n",
       "                <div class=\"jupyter-widgets widget-label\" style=\"text-align: center;\">\n",
       "                    Figure\n",
       "                </div>\n",
       "                <img src='data:image/png;base64,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' width=500.0/>\n",
       "            </div>\n",
       "        "
      ],
      "text/plain": [
       "Canvas(toolbar=Toolbar(toolitems=[('Home', 'Reset original view', 'home', 'home'), ('Back', 'Back to previous …"
      ]
     },
     "metadata": {},
     "output_type": "display_data"
    }
   ],
   "source": [
    "%matplotlib widget\n",
    "plt.style.use('ggplot')\n",
    "vis = Visualiser()\n",
    "sub = rospy.Subscriber('/odom', Odometry, vis.odom_callback)\n",
    "ani = FuncAnimation(vis.fig, vis.update_plot, init_func=vis.plot_init,blit=True)\n",
    "plt.show(block=True)"
   ]
  },
  {
   "cell_type": "markdown",
   "id": "f27e8576",
   "metadata": {},
   "source": [
    "## Laser Scanner Data\n",
    "With the help of jupyros module, we can visulize the laser scanner data in jupyter notebook. After taking an instance of **ros3d.Viewer** we make a connection between jupyter and rosserver and then save the tf_client, laserview, mapview, path and robots urdf from their topics into their corresponding variables we can initilize the process."
   ]
  },
  {
   "cell_type": "code",
   "execution_count": 22,
   "id": "11330279",
   "metadata": {
    "scrolled": true
   },
   "outputs": [
    {
     "data": {
      "application/vnd.jupyter.widget-view+json": {
       "model_id": "8a22eeedc1354766ad88519b510e0075",
       "version_major": 2,
       "version_minor": 0
      },
      "text/plain": [
       "Viewer(objects=[GridModel(), LaserScan(ros=ROSConnection(url='ws://localhost:9090'), tf_client=TFClient(fixed_…"
      ]
     },
     "metadata": {},
     "output_type": "display_data"
    }
   ],
   "source": [
    "v = jr.ros3d.Viewer()\n",
    "rc = jr.ros3d.ROSConnection(url=\"ws://localhost:9090\")\n",
    "tf_client = jr.ros3d.TFClient(ros=rc, fixed_frame='map')\n",
    "laser_view = jr.ros3d.LaserScan(topic=\"/scan\", ros=rc, tf_client=tf_client)\n",
    "map_view = jr.ros3d.OccupancyGrid(topic=\"/map\", ros=rc, tf_client=tf_client)\n",
    "path = jr.ros3d.Path(topic=\"/move_base/NavfnROS/plan\", ros=rc,\n",
    "tf_client=tf_client)\n",
    "urdf = jr.ros3d.URDFModel(ros=rc, tf_client=tf_client,\n",
    "path=os.environ.get('JUPYROS_ASSETS_URL', 'http://localhost:3000'))\n",
    "g = jr.ros3d.GridModel()\n",
    "v.objects = [g, laser_view, map_view, path, urdf]\n",
    "v"
   ]
  }
 ],
 "metadata": {
  "kernelspec": {
   "display_name": "Python 3 (ipykernel)",
   "language": "python",
   "name": "python3"
  },
  "language_info": {
   "codemirror_mode": {
    "name": "ipython",
    "version": 3
   },
   "file_extension": ".py",
   "mimetype": "text/x-python",
   "name": "python",
   "nbconvert_exporter": "python",
   "pygments_lexer": "ipython3",
   "version": "3.8.10"
  }
 },
 "nbformat": 4,
 "nbformat_minor": 5
}
