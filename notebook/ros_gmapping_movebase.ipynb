{
 "cells": [
  {
   "cell_type": "markdown",
   "id": "438b26c7",
   "metadata": {},
   "source": [
    "# ros_gmapping_movebase\n",
    "\n",
    "This ROS package provides three behaviors for controlling a simulated mobile robot using gmapping and movebase rospackages. You can get to know more about the detatils of the source code using this documentation: https://aliy98.github.io/ros_gmapping_movebase/"
   ]
  },
  {
   "cell_type": "markdown",
   "id": "1f8e2c8b",
   "metadata": {},
   "source": [
    "# master node\n",
    " gets user request to choose robot behaviour using robot_state rosparam\n",
    " "
   ]
  },
  {
   "cell_type": "code",
   "execution_count": 8,
   "id": "25e14779",
   "metadata": {},
   "outputs": [
    {
     "data": {
      "application/vnd.jupyter.widget-view+json": {
       "model_id": "37e0ead4969c4cf8a58e0a679d3537ee",
       "version_major": 2,
       "version_minor": 0
      },
      "text/plain": [
       "RadioButtons(options=('1. movebase client', '2. teleop keyboard', '3. assisted teleop'), value='1. movebase cl…"
      ]
     },
     "metadata": {},
     "output_type": "display_data"
    }
   ],
   "source": [
    "import ipywidgets as widgets\n",
    "import rospy\n",
    "from std_srvs.srv import *\n",
    "\n",
    "w = widgets.RadioButtons(\n",
    "    options=['1. movebase client', '2. teleop keyboard', '3. assisted teleop'],\n",
    "#    value='1. movebase client', # Defaults to 'pineapple'\n",
    "#   layout={'width': 'max-content'}, # If the items' names are long\n",
    "#    description='',\n",
    "    disabled=False\n",
    ")\n",
    "display(w)"
   ]
  },
  {
   "cell_type": "code",
   "execution_count": 9,
   "id": "517c61d3",
   "metadata": {},
   "outputs": [
    {
     "name": "stdout",
     "output_type": "stream",
     "text": [
      "robot behaviour changed to: \n",
      "1. movebase client\n"
     ]
    }
   ],
   "source": [
    "# changes robot's behaviour and sends the corresponding response to other three nodes\n",
    "if w.value == '1. movebase client':\n",
    "    rospy.set_param('robot_state', '1')\n",
    "elif w.value == '2. teleop keyboard':\n",
    "    rospy.set_param('robot_state', '2')\n",
    "elif w.value == '3. assisted teleop':\n",
    "    rospy.set_param('robot_state', '3')\n",
    "print(\"robot behaviour changed to: \")\n",
    "print(w.value)"
   ]
  },
  {
   "cell_type": "markdown",
   "id": "86909f5f",
   "metadata": {},
   "source": [
    "## 1. movebase client\n",
    "gets desired position from user and sends it to movebase node using actionlib and if the goal is not reached before timeout cancels it"
   ]
  },
  {
   "cell_type": "code",
   "execution_count": 3,
   "id": "f6abaa59",
   "metadata": {
    "scrolled": false
   },
   "outputs": [
    {
     "name": "stdout",
     "output_type": "stream",
     "text": [
      "enter goal position in format x,y:\n",
      "\n"
     ]
    },
    {
     "data": {
      "application/vnd.jupyter.widget-view+json": {
       "model_id": "bfe7f4a8201e43bc8110718ac5bc5bd2",
       "version_major": 2,
       "version_minor": 0
      },
      "text/plain": [
       "VBox(children=(HBox(children=(Label(value='data', layout=Layout(width='100px')), Text(value=''))), HBox(childr…"
      ]
     },
     "metadata": {},
     "output_type": "display_data"
    }
   ],
   "source": [
    "import jupyros as jr\n",
    "from std_msgs.msg import String\n",
    "\n",
    "print(\"enter goal position in format x,y:\\n\")\n",
    "rospy.init_node('jupyter_node')\n",
    "jr.publish('/movebase_client_goal', String)"
   ]
  },
  {
   "cell_type": "markdown",
   "id": "862abc2c",
   "metadata": {},
   "source": [
    "## 2. teleop twist keyboard\n",
    "it can implement two behaviours on robot:\n",
    "1. moving without obstacle avoidance: user can move the robot using keys it publishes the desired movements to cmd_vel topic\n",
    "\n",
    "2. moveing with obstacle avoidance: subscribes scan topic and uses it to detect obstacles. user can move the robot using keys and it also avoids the robot from colliding the obstacles"
   ]
  },
  {
   "cell_type": "code",
   "execution_count": 4,
   "id": "bdd2138a",
   "metadata": {
    "scrolled": true
   },
   "outputs": [
    {
     "name": "stdout",
     "output_type": "stream",
     "text": [
      "input direction:\n"
     ]
    },
    {
     "data": {
      "application/vnd.jupyter.widget-view+json": {
       "model_id": "eb0ba069d6254e339e15853961eee584",
       "version_major": 2,
       "version_minor": 0
      },
      "text/plain": [
       "HBox(children=(VBox(children=(Button(description='u', layout=Layout(grid_area='b1', width='auto'), style=Butto…"
      ]
     },
     "metadata": {},
     "output_type": "display_data"
    }
   ],
   "source": [
    "from ipywidgets import Button, Output, Layout, ButtonStyle, GridBox, VBox, HBox\n",
    "from IPython.display import display\n",
    "from std_msgs.msg import String\n",
    "\n",
    "\n",
    "b1 = Button(description='u',layout=Layout(width='auto', grid_area='b1'),style=ButtonStyle(button_color='lightblue'))\n",
    "o1 = Output()\n",
    "b2 = Button(description='j',layout=Layout(width='auto', grid_area='b2'),style=ButtonStyle(button_color='salmon'))\n",
    "o2 = Output()\n",
    "b3 = Button(description='m',layout=Layout(width='auto', grid_area='b3'),style=ButtonStyle(button_color='lightblue'))\n",
    "o3 = Output()\n",
    "b4 = Button(description='i',layout=Layout(width='auto', grid_area='b4'),style=ButtonStyle(button_color='salmon'))\n",
    "o4 = Output()\n",
    "b5 = Button(description='k',layout=Layout(width='auto', grid_area='b5'),style=ButtonStyle(button_color='lightblue'))\n",
    "o5 = Output()\n",
    "b6 = Button(description=',',layout=Layout(width='auto', grid_area='b5'),style=ButtonStyle(button_color='salmon'))\n",
    "o6 = Output()\n",
    "b7 = Button(description='o',layout=Layout(width='auto', grid_area='b5'),style=ButtonStyle(button_color='lightblue'))\n",
    "o7 = Output()\n",
    "b8 = Button(description='l',layout=Layout(width='auto', grid_area='b5'),style=ButtonStyle(button_color='salmon'))\n",
    "o8 = Output()\n",
    "b9 = Button(description='.',layout=Layout(width='auto', grid_area='b5'),style=ButtonStyle(button_color='lightblue'))\n",
    "o9 = Output()\n",
    "\n",
    "def on_button_clicked1(b):\n",
    "    with o1:\n",
    "        pub.publish('u')\n",
    "def on_button_clicked2(b):\n",
    "    with o2:\n",
    "        pub.publish('j')\n",
    "def on_button_clicked3(b):\n",
    "    with o3:\n",
    "        pub.publish('m')\n",
    "def on_button_clicked4(b):\n",
    "    with o4:\n",
    "        pub.publish('i')\n",
    "def on_button_clicked5(b):\n",
    "    with o5:\n",
    "        pub.publish('k')\n",
    "def on_button_clicked6(b):\n",
    "    with o6:\n",
    "        pub.publish(',')\n",
    "def on_button_clicked7(b):\n",
    "    with o7:\n",
    "        pub.publish('o')\n",
    "def on_button_clicked8(b):\n",
    "    with o8:\n",
    "        pub.publish('l')\n",
    "def on_button_clicked9(b):\n",
    "    with o9:\n",
    "        pub.publish('.')\n",
    "        \n",
    "b1.on_click(on_button_clicked1)\n",
    "b2.on_click(on_button_clicked2)\n",
    "b3.on_click(on_button_clicked3)\n",
    "b4.on_click(on_button_clicked4)\n",
    "b5.on_click(on_button_clicked5)\n",
    "b6.on_click(on_button_clicked6)\n",
    "b7.on_click(on_button_clicked7)\n",
    "b8.on_click(on_button_clicked8)\n",
    "b9.on_click(on_button_clicked9)\n",
    "\n",
    "pub = rospy.Publisher('/teleop_input_key', String, queue_size=10)\n",
    "rospy.init_node('jupyter_node')\n",
    "print(\"input direction:\")\n",
    "HBox([VBox([b1, b2, b3]),VBox([b4, b5, b6]),VBox([b7, b8, b9])])"
   ]
  },
  {
   "cell_type": "markdown",
   "id": "e8709bee",
   "metadata": {},
   "source": [
    "## Robot Position Plot\n"
   ]
  },
  {
   "cell_type": "code",
   "execution_count": 5,
   "id": "db56de5e",
   "metadata": {
    "scrolled": true
   },
   "outputs": [
    {
     "data": {
      "application/vnd.jupyter.widget-view+json": {
       "model_id": "9463a3444c2b423cb0fc2c70635ee2e3",
       "version_major": 2,
       "version_minor": 0
      },
      "image/png": "[encoded data removed]",
      "text/html": [
       "\n",
       "            <div style=\"display: inline-block;\">\n",
       "                <div class=\"jupyter-widgets widget-label\" style=\"text-align: center;\">\n",
       "                    Figure\n",
       "                </div>\n",
       "                <img src='data:image/png;base64,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' width=640.0/>\n",
       "            </div>\n",
       "        "
      ],
      "text/plain": [
       "Canvas(toolbar=Toolbar(toolitems=[('Home', 'Reset original view', 'home', 'home'), ('Back', 'Back to previous …"
      ]
     },
     "metadata": {},
     "output_type": "display_data"
    }
   ],
   "source": [
    "import matplotlib.pyplot as plt\n",
    "import rospy\n",
    "import tf\n",
    "from nav_msgs.msg import Odometry\n",
    "from tf.transformations import quaternion_matrix\n",
    "import numpy as np\n",
    "from matplotlib.animation import FuncAnimation\n",
    "%matplotlib widget\n",
    "plt.style.use('ggplot')\n",
    "\n",
    "class Visualiser:\n",
    "    def __init__(self):\n",
    "        self.fig, self.ax = plt.subplots()\n",
    "        self.ln, = plt.plot([], [], 'ro')\n",
    "        self.x_data, self.y_data = [] , []\n",
    " \n",
    "    def plot_init(self):\n",
    "        self.ax.set_xlim(-10, 10)\n",
    "        self.ax.set_ylim(-10, 10)\n",
    "        return self.ln\n",
    "\n",
    "    def odom_callback(self, msg):\n",
    "        self.y_data.append(msg.pose.pose.position.y)\n",
    "        self.x_data.append(msg.pose.pose.position.x)\n",
    "\n",
    "    def update_plot(self, frame):\n",
    "        self.ln.set_data(self.x_data, self.y_data)\n",
    "        return self.ln\n",
    "rospy.init_node('jupyter_node')\n",
    "vis = Visualiser()\n",
    "sub = rospy.Subscriber('/odom', Odometry, vis.odom_callback)\n",
    "ani = FuncAnimation(vis.fig, vis.update_plot, init_func=vis.plot_init,blit=True)\n",
    "plt.show(block=True)\n"
   ]
  },
  {
   "cell_type": "markdown",
   "id": "f27e8576",
   "metadata": {},
   "source": [
    "## 3D Visualization"
   ]
  },
  {
   "cell_type": "code",
   "execution_count": 6,
   "id": "11330279",
   "metadata": {},
   "outputs": [
    {
     "data": {
      "application/vnd.jupyter.widget-view+json": {
       "model_id": "c99d8972b112448087318e14160ddf3b",
       "version_major": 2,
       "version_minor": 0
      },
      "text/plain": [
       "Viewer(objects=[GridModel(), LaserScan(ros=ROSConnection(url='ws://localhost:9090'), tf_client=TFClient(fixed_…"
      ]
     },
     "metadata": {},
     "output_type": "display_data"
    }
   ],
   "source": [
    "from jupyros import ros3d\n",
    "import os\n",
    "v = ros3d.Viewer()\n",
    "rc = ros3d.ROSConnection(url=\"ws://localhost:9090\")\n",
    "tf_client = ros3d.TFClient(ros=rc, fixed_frame='map')\n",
    "laser_view = ros3d.LaserScan(topic=\"/scan\", ros=rc, tf_client=tf_client)\n",
    "map_view = ros3d.OccupancyGrid(topic=\"/map\", ros=rc, tf_client=tf_client)\n",
    "path = ros3d.Path(topic=\"/move_base/NavfnROS/plan\", ros=rc,\n",
    "tf_client=tf_client)\n",
    "urdf = ros3d.URDFModel(ros=rc, tf_client=tf_client,\n",
    "path=os.environ.get('JUPYROS_ASSETS_URL', 'http://localhost:3000'))\n",
    "g = ros3d.GridModel()\n",
    "v.objects = [g, laser_view, map_view, path, urdf]\n",
    "v"
   ]
  },
  {
   "cell_type": "code",
   "execution_count": null,
   "id": "0e8aaa76",
   "metadata": {},
   "outputs": [],
   "source": []
  }
 ],
 "metadata": {
  "kernelspec": {
   "display_name": "Python 3 (ipykernel)",
   "language": "python",
   "name": "python3"
  },
  "language_info": {
   "codemirror_mode": {
    "name": "ipython",
    "version": 3
   },
   "file_extension": ".py",
   "mimetype": "text/x-python",
   "name": "python",
   "nbconvert_exporter": "python",
   "pygments_lexer": "ipython3",
   "version": "3.8.10"
  }
 },
 "nbformat": 4,
 "nbformat_minor": 5
}
