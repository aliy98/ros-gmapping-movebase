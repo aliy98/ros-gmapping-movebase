{
 "cells": [
  {
   "cell_type": "markdown",
   "id": "438b26c7",
   "metadata": {},
   "source": [
    "# ros_gmapping_movebase\n",
    "\n",
    "This ROS package provides three behaviors for controlling a simulated mobile robot using gmapping and movebase rospackages. You can get to know more about the detatils of the source code using this documentation: https://aliy98.github.io/ros_gmapping_movebase/"
   ]
  },
  {
   "cell_type": "markdown",
   "id": "1f8e2c8b",
   "metadata": {},
   "source": [
    "# master node\n",
    " gets user request to choose robot behaviour using robot_state rosparam\n",
    " "
   ]
  },
  {
   "cell_type": "code",
   "execution_count": 1,
   "id": "25e14779",
   "metadata": {},
   "outputs": [
    {
     "data": {
      "application/vnd.jupyter.widget-view+json": {
       "model_id": "a861f6e3bd134fb883ab0f6ff1b1c939",
       "version_major": 2,
       "version_minor": 0
      },
      "text/plain": [
       "RadioButtons(options=('1. movebase client', '2. teleop keyboard', '3. assisted teleop'), value='1. movebase cl…"
      ]
     },
     "metadata": {},
     "output_type": "display_data"
    }
   ],
   "source": [
    "import ipywidgets as widgets\n",
    "import rospy\n",
    "from std_srvs.srv import *\n",
    "\n",
    "w = widgets.RadioButtons(\n",
    "    options=['1. movebase client', '2. teleop keyboard', '3. assisted teleop'],\n",
    "#    value='1. movebase client', # Defaults to 'pineapple'\n",
    "#   layout={'width': 'max-content'}, # If the items' names are long\n",
    "#    description='',\n",
    "    disabled=False\n",
    ")\n",
    "display(w)"
   ]
  },
  {
   "cell_type": "code",
   "execution_count": 2,
   "id": "517c61d3",
   "metadata": {},
   "outputs": [
    {
     "name": "stdout",
     "output_type": "stream",
     "text": [
      "robot behaviour changed to: \n",
      "2. teleop keyboard\n"
     ]
    }
   ],
   "source": [
    "# changes robot's behaviour and sends the corresponding response to other three nodes\n",
    "if w.value == '1. movebase client':\n",
    "    rospy.set_param('robot_state', '1')\n",
    "elif w.value == '2. teleop keyboard':\n",
    "    rospy.set_param('robot_state', '2')\n",
    "elif w.value == '3. assisted teleop':\n",
    "    rospy.set_param('robot_state', '3')\n",
    "print(\"robot behaviour changed to: \")\n",
    "print(w.value)"
   ]
  },
  {
   "cell_type": "markdown",
   "id": "86909f5f",
   "metadata": {},
   "source": [
    "## 1. movebase client\n",
    "gets desired position from user and sends it to movebase node using actionlib and if the goal is not reached before timeout cancels it"
   ]
  },
  {
   "cell_type": "code",
   "execution_count": 3,
   "id": "f6abaa59",
   "metadata": {
    "scrolled": false
   },
   "outputs": [
    {
     "name": "stdout",
     "output_type": "stream",
     "text": [
      "enter goal position in format x,y:\n",
      "\n"
     ]
    },
    {
     "data": {
      "application/vnd.jupyter.widget-view+json": {
       "model_id": "1b254cc8b3e9426696a0e22c810e0b0c",
       "version_major": 2,
       "version_minor": 0
      },
      "text/plain": [
       "VBox(children=(HBox(children=(Label(value='data', layout=Layout(width='100px')), Text(value=''))), HBox(childr…"
      ]
     },
     "metadata": {},
     "output_type": "display_data"
    }
   ],
   "source": [
    "import jupyros as jr\n",
    "from std_msgs.msg import String\n",
    "\n",
    "print(\"enter goal position in format x,y:\\n\")\n",
    "rospy.init_node('jupyter_node')\n",
    "jr.publish('/movebase_client_goal', String)"
   ]
  },
  {
   "cell_type": "markdown",
   "id": "862abc2c",
   "metadata": {},
   "source": [
    "## 2. teleop twist keyboard\n",
    "it can implement two behaviours on robot:\n",
    "1. moving without obstacle avoidance: user can move the robot using keys it publishes the desired movements to cmd_vel topic\n",
    "\n",
    "2. moveing with obstacle avoidance: subscribes scan topic and uses it to detect obstacles. user can move the robot using keys and it also avoids the robot from colliding the obstacles"
   ]
  },
  {
   "cell_type": "code",
   "execution_count": 4,
   "id": "bdd2138a",
   "metadata": {
    "scrolled": true
   },
   "outputs": [
    {
     "name": "stdout",
     "output_type": "stream",
     "text": [
      "input direction:\n"
     ]
    },
    {
     "data": {
      "application/vnd.jupyter.widget-view+json": {
       "model_id": "a4a4cc5135374fc3ba4e0365a62da6a5",
       "version_major": 2,
       "version_minor": 0
      },
      "text/plain": [
       "HBox(children=(VBox(children=(Button(description='u', layout=Layout(grid_area='b1', width='auto'), style=Butto…"
      ]
     },
     "metadata": {},
     "output_type": "display_data"
    }
   ],
   "source": [
    "from ipywidgets import Button, Output, Layout, ButtonStyle, GridBox, VBox, HBox\n",
    "from IPython.display import display\n",
    "from std_msgs.msg import String\n",
    "\n",
    "\n",
    "b1 = Button(description='u',layout=Layout(width='auto', grid_area='b1'),style=ButtonStyle(button_color='lightblue'))\n",
    "o1 = Output()\n",
    "b2 = Button(description='j',layout=Layout(width='auto', grid_area='b2'),style=ButtonStyle(button_color='salmon'))\n",
    "o2 = Output()\n",
    "b3 = Button(description='m',layout=Layout(width='auto', grid_area='b3'),style=ButtonStyle(button_color='lightblue'))\n",
    "o3 = Output()\n",
    "b4 = Button(description='i',layout=Layout(width='auto', grid_area='b4'),style=ButtonStyle(button_color='salmon'))\n",
    "o4 = Output()\n",
    "b5 = Button(description='k',layout=Layout(width='auto', grid_area='b5'),style=ButtonStyle(button_color='lightblue'))\n",
    "o5 = Output()\n",
    "b6 = Button(description=',',layout=Layout(width='auto', grid_area='b5'),style=ButtonStyle(button_color='salmon'))\n",
    "o6 = Output()\n",
    "b7 = Button(description='o',layout=Layout(width='auto', grid_area='b5'),style=ButtonStyle(button_color='lightblue'))\n",
    "o7 = Output()\n",
    "b8 = Button(description='l',layout=Layout(width='auto', grid_area='b5'),style=ButtonStyle(button_color='salmon'))\n",
    "o8 = Output()\n",
    "b9 = Button(description='.',layout=Layout(width='auto', grid_area='b5'),style=ButtonStyle(button_color='lightblue'))\n",
    "o9 = Output()\n",
    "\n",
    "def on_button_clicked1(b):\n",
    "    with o1:\n",
    "        pub.publish('u')\n",
    "def on_button_clicked2(b):\n",
    "    with o2:\n",
    "        pub.publish('j')\n",
    "def on_button_clicked3(b):\n",
    "    with o3:\n",
    "        pub.publish('m')\n",
    "def on_button_clicked4(b):\n",
    "    with o4:\n",
    "        pub.publish('i')\n",
    "def on_button_clicked5(b):\n",
    "    with o5:\n",
    "        pub.publish('k')\n",
    "def on_button_clicked6(b):\n",
    "    with o6:\n",
    "        pub.publish(',')\n",
    "def on_button_clicked7(b):\n",
    "    with o7:\n",
    "        pub.publish('o')\n",
    "def on_button_clicked8(b):\n",
    "    with o8:\n",
    "        pub.publish('l')\n",
    "def on_button_clicked9(b):\n",
    "    with o9:\n",
    "        pub.publish('.')\n",
    "        \n",
    "b1.on_click(on_button_clicked1)\n",
    "b2.on_click(on_button_clicked2)\n",
    "b3.on_click(on_button_clicked3)\n",
    "b4.on_click(on_button_clicked4)\n",
    "b5.on_click(on_button_clicked5)\n",
    "b6.on_click(on_button_clicked6)\n",
    "b7.on_click(on_button_clicked7)\n",
    "b8.on_click(on_button_clicked8)\n",
    "b9.on_click(on_button_clicked9)\n",
    "\n",
    "pub = rospy.Publisher('/teleop_input_key', String, queue_size=10)\n",
    "rospy.init_node('jupyter_node')\n",
    "print(\"input direction:\")\n",
    "HBox([VBox([b1, b2, b3]),VBox([b4, b5, b6]),VBox([b7, b8, b9])])"
   ]
  },
  {
   "cell_type": "markdown",
   "id": "e8709bee",
   "metadata": {},
   "source": [
    "## Robot Position Plot\n"
   ]
  },
  {
   "cell_type": "code",
   "execution_count": 8,
   "id": "db56de5e",
   "metadata": {
    "scrolled": true
   },
   "outputs": [
    {
     "data": {
      "image/png": "[encoded data removed]",
      "text/plain": [
       "<Figure size 432x288 with 1 Axes>"
      ]
     },
     "metadata": {
      "needs_background": "light"
     },
     "output_type": "display_data"
    }
   ],
   "source": [
    "import matplotlib.pyplot as plt\n",
    "import rospy\n",
    "import tf\n",
    "from nav_msgs.msg import Odometry\n",
    "from tf.transformations import quaternion_matrix\n",
    "import numpy as np\n",
    "from matplotlib.animation import FuncAnimation\n",
    "\n",
    "class Visualiser:\n",
    "    def __init__(self):\n",
    "        self.fig, self.ax = plt.subplots()\n",
    "        self.ln, = plt.plot([], [], 'ro')\n",
    "        self.x_data, self.y_data = [] , []\n",
    " \n",
    "    def plot_init(self):\n",
    "        self.ax.set_xlim(-10, 10)\n",
    "        self.ax.set_ylim(-10, 10)\n",
    "        return self.ln\n",
    "\n",
    "    def odom_callback(self, msg):\n",
    "        self.y_data.append(msg.pose.pose.position.y)\n",
    "        self.x_data.append(msg.pose.pose.position.x)\n",
    "\n",
    "    def update_plot(self, frame):\n",
    "        self.ln.set_data(self.x_data, self.y_data)\n",
    "        return self.ln\n",
    "\n",
    "vis = Visualiser()\n",
    "sub = rospy.Subscriber('/odom', Odometry, vis.odom_callback)\n",
    "ani = FuncAnimation(vis.fig, vis.update_plot, init_func=vis.plot_init)\n",
    "plt.show(block=True)\n"
   ]
  },
  {
   "cell_type": "markdown",
   "id": "f27e8576",
   "metadata": {},
   "source": [
    "## 3D Visualization"
   ]
  },
  {
   "cell_type": "code",
   "execution_count": 11,
   "id": "11330279",
   "metadata": {},
   "outputs": [
    {
     "data": {
      "application/vnd.jupyter.widget-view+json": {
       "model_id": "2a2ef9a1bc6947f88f8b3eeb85ad8920",
       "version_major": 2,
       "version_minor": 0
      },
      "text/plain": [
       "Viewer(objects=[GridModel(), LaserScan(ros=ROSConnection(url='ws://localhost:9090'), tf_client=TFClient(fixed_…"
      ]
     },
     "metadata": {},
     "output_type": "display_data"
    }
   ],
   "source": [
    "from jupyros import ros3d\n",
    "import os\n",
    "v = ros3d.Viewer()\n",
    "rc = ros3d.ROSConnection(url=\"ws://localhost:9090\")\n",
    "tf_client = ros3d.TFClient(ros=rc, fixed_frame='map')\n",
    "laser_view = ros3d.LaserScan(topic=\"/scan\", ros=rc, tf_client=tf_client)\n",
    "map_view = ros3d.OccupancyGrid(topic=\"/map\", ros=rc, tf_client=tf_client)\n",
    "path = ros3d.Path(topic=\"/move_base/NavfnROS/plan\", ros=rc,\n",
    "tf_client=tf_client)\n",
    "urdf = ros3d.URDFModel(ros=rc, tf_client=tf_client,\n",
    "path=os.environ.get('JUPYROS_ASSETS_URL', 'http://localhost:3000'))\n",
    "g = ros3d.GridModel()\n",
    "v.objects = [g, laser_view, map_view, path, urdf]\n",
    "v"
   ]
  },
  {
   "cell_type": "code",
   "execution_count": null,
   "id": "0e8aaa76",
   "metadata": {},
   "outputs": [],
   "source": []
  }
 ],
 "metadata": {
  "kernelspec": {
   "display_name": "Python 3 (ipykernel)",
   "language": "python",
   "name": "python3"
  },
  "language_info": {
   "codemirror_mode": {
    "name": "ipython",
    "version": 3
   },
   "file_extension": ".py",
   "mimetype": "text/x-python",
   "name": "python",
   "nbconvert_exporter": "python",
   "pygments_lexer": "ipython3",
   "version": "3.8.10"
  }
 },
 "nbformat": 4,
 "nbformat_minor": 5
}
