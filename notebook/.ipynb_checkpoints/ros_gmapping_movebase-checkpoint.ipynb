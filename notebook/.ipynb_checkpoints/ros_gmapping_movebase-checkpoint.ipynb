{
 "cells": [
  {
   "cell_type": "markdown",
   "id": "438b26c7",
   "metadata": {},
   "source": [
    "# ros_gmapping_movebase\n",
    "\n",
    "## Introduction\n",
    "\n",
    "This jupyter notebook serves as a user interface for a rospackage that implements three behaviors for controlling a simulated mobile robot, which can provide us the map of the environment using gmapping and movebase rospackages.\n",
    "\n",
    "Robot behaviors are these three options:\n",
    "\n",
    "1. Choosing a goal point and using the movebase node for path planning\n",
    "2. Controlling the robot through direction commands with and without obstacle avoidance\n"
   ]
  },
  {
   "cell_type": "markdown",
   "id": "b985acdd",
   "metadata": {},
   "source": [
    "<div align=\"left\">\n",
    "<img src=\"preview.png\" width=\"75%\" height=\"75%\">\n",
    "</div>"
   ]
  },
  {
   "cell_type": "markdown",
   "id": "2fe1575f",
   "metadata": {},
   "source": [
    "## Usage\n",
    "\n",
    "### Installation\n",
    "\n",
    "Here is the instruction for installing the package:\n",
    "\n",
    "```bashscript\n",
    "$ mkdir -p catkin_ws/src\n",
    "$ cd catkin_ws/src\n",
    "$ git clone https://github.com/aliy98/ros_gmapping_movebase\n",
    "$ cd ..\n",
    "$ source /opt/ros/<distro>/setup.bash\n",
    "$ catkin_make\n",
    "```\n",
    "\n",
    "### Running\n",
    "\n",
    "You can initialize the simulation environment in gazebo and run rviz in the same time using the commands below\n",
    "\n",
    "```bashscript\n",
    "$ source devel/setup.bash\n",
    "$ roslaunch final_assignment simulation_gmapping.launch\n",
    "```\n",
    "\n",
    "In order to run the *movebase node*, open a new terminal in the same directory and run the following commands:\n",
    "\n",
    "```bashscript\n",
    "$ source devel/setup.bash\n",
    "$ roslaunch final_assignment move_base.launch\n",
    "```\n",
    "\n",
    "For initializing the rospackage which is connected to this jupyter notebook, in a new terminal run the following commands:\n",
    "\n",
    "```bashscript\n",
    "$ source devel/setup.bash\n",
    "$ roslaunch final_assignment master.launch\n",
    "```\n",
    "\n",
    "Now you can keep running the following cells for using this interface with the rospackage"
   ]
  },
  {
   "cell_type": "markdown",
   "id": "7790e9a1",
   "metadata": {},
   "source": [
    "## Importing Required Modules"
   ]
  },
  {
   "cell_type": "code",
   "execution_count": 2,
   "id": "1aa38692",
   "metadata": {},
   "outputs": [],
   "source": [
    "import rospy\n",
    "from std_srvs.srv import *\n",
    "from std_msgs.msg import String\n",
    "from nav_msgs.msg import Odometry\n",
    "from tf.transformations import quaternion_matrix\n",
    "import jupyros as jr\n",
    "import tf\n",
    "import os\n",
    "import ipywidgets as widgets\n",
    "from ipywidgets import Button, Output, Layout, ButtonStyle, GridBox, VBox, HBox\n",
    "from IPython.display import display\n",
    "import matplotlib.pyplot as plt\n",
    "import numpy as np\n",
    "from matplotlib.animation import FuncAnimation"
   ]
  },
  {
   "cell_type": "markdown",
   "id": "4d95595c",
   "metadata": {},
   "source": [
    "## Defining Required Classes\n",
    "There are 5 classes that are used in this jupyter notebook to make it more modular and convenient. In the next cells we will take instances from these classes in order to use the interface for this rospackage."
   ]
  },
  {
   "cell_type": "code",
   "execution_count": 3,
   "id": "bfc5412b",
   "metadata": {},
   "outputs": [],
   "source": [
    "class SwitchMode:\n",
    "    def __init__(self):\n",
    "        self.w = widgets.RadioButtons(\n",
    "            options=['1. goal point', '2. control with direction', \n",
    "                     '3. control with direction and obstacle avoidance'],\n",
    "            layout={'width': 'max-content'}, \n",
    "            disabled=False\n",
    "        )\n",
    "        self.b = Button(description='Apply Mode',layout=Layout(width='auto', grid_area='b'),style=ButtonStyle(button_color='lightblue'))\n",
    "        self.o = Output()\n",
    "        \n",
    "    def on_button_clicked(self, b):\n",
    "        with self.o:\n",
    "            if self.w.value == '1. goal point':\n",
    "                rospy.set_param('robot_state', '1')\n",
    "            elif self.w.value == '2. control with direction':\n",
    "                rospy.set_param('robot_state', '2')\n",
    "            elif self.w.value == '3. control with direction and obstacle avoidance':\n",
    "                rospy.set_param('robot_state', '3')\n",
    "                "
   ]
  },
  {
   "cell_type": "code",
   "execution_count": 4,
   "id": "f1c02b2f",
   "metadata": {},
   "outputs": [],
   "source": [
    "class SendTarget:\n",
    "    def __init__(self):\n",
    "        self.goal = widgets.Text()\n",
    "        self.b = Button(description='Apply Goal Point',layout=Layout(width='auto', grid_area='b'),style=ButtonStyle(button_color='lightblue'))\n",
    "        self.o = Output()\n",
    "        self.pub = rospy.Publisher('/movebase_client_goal', String, queue_size=10)\n",
    "        \n",
    "    def on_button_clicked(self, b):\n",
    "        with self.o:\n",
    "            self.pub.publish(self.goal.value)\n",
    "            rospy.set_param('input_target', '1')\n",
    "            \n",
    "    def main(self):\n",
    "        self.b.on_click(self.on_button_clicked)\n",
    "        display(self.goal)"
   ]
  },
  {
   "cell_type": "code",
   "execution_count": 5,
   "id": "b7309d3e",
   "metadata": {},
   "outputs": [],
   "source": [
    "class TargetsAnalysis:\n",
    "    def __init__(self):\n",
    "        self.reached_target = 0\n",
    "        self.not_reached_target = 0\n",
    "        self.fig = plt.figure(figsize=(8,2))\n",
    "        self.b = Button(description='Reload Plot',layout=Layout(width='auto', grid_area='b'),style=ButtonStyle(button_color='lightblue'))\n",
    "        self.o = Output()\n",
    "        \n",
    "    def get_target_param(self):\n",
    "        if (rospy.has_param('/reached_targets')):\n",
    "            self.reached_target = rospy.get_param('/reached_targets')\n",
    "        if (rospy.has_param('/not_reached_targets')):\n",
    "            self.not_reached_target = rospy.get_param('/not_reached_targets')\n",
    "            \n",
    "    def plot_init(self):\n",
    "        self.axes_2 = self.fig.add_axes([0.2, 0.3, 0.7, 0.4])\n",
    "        self.axes_2.set_title('Number of not_reached and reached Targets')\n",
    "        self.get_target_param()\n",
    "        self.axes_2.barh(('reached\\ntargets', 'not_reached\\ntargets'),(self.reached_target, self.not_reached_target),color=[ 'green','red'])\n",
    "    \n",
    "    def on_button_clicked(self, b):\n",
    "        with self.o:\n",
    "            self.axes_2.cla()\n",
    "            self.plot_init()"
   ]
  },
  {
   "cell_type": "code",
   "execution_count": 6,
   "id": "482f2a32",
   "metadata": {},
   "outputs": [],
   "source": [
    "class Visualiser:\n",
    "    def __init__(self):\n",
    "        self.fig = plt.figure(figsize=(5,3))\n",
    "        self.ax = self.fig.add_axes([0.2,0.2,0.7,0.7]) # here is where the sectioning of the axis of the figure is done \n",
    "        self.ax.set_title('Robot Footprint')\n",
    "        self.ax.set_xlabel('X Coordinate')\n",
    "        self.ax.set_ylabel('Y Coordinate')\n",
    "        self.ln, = plt.plot([], [], 'ro')\n",
    "        self.x_data, self.y_data = [] , []\n",
    " \n",
    "    def plot_init(self):\n",
    "        self.ax.set_xlim(-10, 10)\n",
    "        self.ax.set_ylim(-10, 10)\n",
    "        return self.ln\n",
    "\n",
    "    def odom_callback(self, msg):\n",
    "        self.y_data.append(msg.pose.pose.position.y)\n",
    "        self.x_data.append(msg.pose.pose.position.x)\n",
    "\n",
    "    def update_plot(self, frame):\n",
    "        self.ln.set_data(self.x_data, self.y_data)\n",
    "        return self.ln"
   ]
  },
  {
   "cell_type": "code",
   "execution_count": 7,
   "id": "66f28e97",
   "metadata": {},
   "outputs": [],
   "source": [
    "class TeleopButtons:\n",
    "    def __init__(self):\n",
    "        self.b1 = Button(description='u',layout=Layout(width='auto', grid_area='b1'),style=ButtonStyle(button_color='lightblue'))\n",
    "        self.o1 = Output()\n",
    "        self.b2 = Button(description='j',layout=Layout(width='auto', grid_area='b2'),style=ButtonStyle(button_color='salmon'))\n",
    "        self.o2 = Output()\n",
    "        self.b3 = Button(description='m',layout=Layout(width='auto', grid_area='b3'),style=ButtonStyle(button_color='lightblue'))\n",
    "        self.o3 = Output()\n",
    "        self.b4 = Button(description='i',layout=Layout(width='auto', grid_area='b4'),style=ButtonStyle(button_color='salmon'))\n",
    "        self.o4 = Output()\n",
    "        self.b5 = Button(description='k',layout=Layout(width='auto', grid_area='b5'),style=ButtonStyle(button_color='lightblue'))\n",
    "        self.o5 = Output()\n",
    "        self.b6 = Button(description=',',layout=Layout(width='auto', grid_area='b5'),style=ButtonStyle(button_color='salmon'))\n",
    "        self.o6 = Output()\n",
    "        self.b7 = Button(description='o',layout=Layout(width='auto', grid_area='b5'),style=ButtonStyle(button_color='lightblue'))\n",
    "        self.o7 = Output()\n",
    "        self.b8 = Button(description='l',layout=Layout(width='auto', grid_area='b5'),style=ButtonStyle(button_color='salmon'))\n",
    "        self.o8 = Output()\n",
    "        self.b9 = Button(description='.',layout=Layout(width='auto', grid_area='b5'),style=ButtonStyle(button_color='lightblue'))\n",
    "        self.o9 = Output()\n",
    "        self.pub = rospy.Publisher('/teleop_input_key', String, queue_size=10)\n",
    "\n",
    "    def on_button_clicked1(self, b):\n",
    "        with self.o1:\n",
    "            self.pub.publish('u')\n",
    "    def on_button_clicked2(self, b):\n",
    "        with self.o2:\n",
    "            self.pub.publish('j')\n",
    "    def on_button_clicked3(self, b):\n",
    "        with self.o3:\n",
    "            self.pub.publish('m')\n",
    "    def on_button_clicked4(self, b):\n",
    "        with self.o4:\n",
    "            self.pub.publish('i')\n",
    "    def on_button_clicked5(self, b):\n",
    "        with self.o5:\n",
    "            self.pub.publish('k')\n",
    "    def on_button_clicked6(self, b):\n",
    "        with self.o6:\n",
    "            self.pub.publish(',')\n",
    "    def on_button_clicked7(self, b):\n",
    "        with self.o7:\n",
    "            self.pub.publish('o')\n",
    "    def on_button_clicked8(self, b):\n",
    "        with self.o8:\n",
    "            self.pub.publish('l')\n",
    "    def on_button_clicked9(self, b):\n",
    "        with self.o9:\n",
    "            self.pub.publish('.')\n",
    "\n",
    "    def main(self):\n",
    "        self.b1.on_click(self.on_button_clicked1)\n",
    "        self.b2.on_click(self.on_button_clicked2)\n",
    "        self.b3.on_click(self.on_button_clicked3)\n",
    "        self.b4.on_click(self.on_button_clicked4)\n",
    "        self.b5.on_click(self.on_button_clicked5)\n",
    "        self.b6.on_click(self.on_button_clicked6)\n",
    "        self.b7.on_click(self.on_button_clicked7)\n",
    "        self.b8.on_click(self.on_button_clicked8)\n",
    "        self.b9.on_click(self.on_button_clicked9)           "
   ]
  },
  {
   "cell_type": "markdown",
   "id": "802a577b",
   "metadata": {},
   "source": [
    "## Switching to the different modalities\n",
    "\n",
    "There are two cells for this section. First you choose the robot behaviour with the radio button and then run the second cell to apply it to the robot, then you can move to the correspinding cell for that behaviour. In this section we use a rosparam which is **/robot_state** to change robot behaviour."
   ]
  },
  {
   "cell_type": "code",
   "execution_count": null,
   "id": "25e14779",
   "metadata": {
    "scrolled": false
   },
   "outputs": [
    {
     "name": "stdout",
     "output_type": "stream",
     "text": [
      "Unable to register with master node [http://localhost:11311]: master may not be running yet. Will keep trying.\n"
     ]
    }
   ],
   "source": [
    "rospy.init_node('jupyter_node')  \n",
    "sm = SwitchMode()\n",
    "sm.b.on_click(self.on_button_clicked)\n",
    "display(sm.w)\n",
    "sm.b"
   ]
  },
  {
   "cell_type": "markdown",
   "id": "86909f5f",
   "metadata": {},
   "source": [
    "## 1. Goal point (for the first mode)\n",
    "\n",
    "In this part you can publish a goal point to **/movebase_client_goal** topic, which is subscribed by *movebase_client node*. This goal point will be sent to *movebase node* with **/move_base/action_topics** for path-planning and also using this topic we can detect if the goal point has been reached or not. The numbers of reached and not reached targets are saved in two rosparams so that we can visualize them in a bar graph. "
   ]
  },
  {
   "cell_type": "code",
   "execution_count": 13,
   "id": "f6abaa59",
   "metadata": {
    "scrolled": false
   },
   "outputs": [
    {
     "name": "stdout",
     "output_type": "stream",
     "text": [
      "enter goal position in format x,y:\n"
     ]
    },
    {
     "data": {
      "application/vnd.jupyter.widget-view+json": {
       "model_id": "116bf2ab662d47f69cfcfc668d0b334d",
       "version_major": 2,
       "version_minor": 0
      },
      "text/plain": [
       "Text(value='')"
      ]
     },
     "metadata": {},
     "output_type": "display_data"
    },
    {
     "data": {
      "application/vnd.jupyter.widget-view+json": {
       "model_id": "31abcc658fc344fc90c216e9528a6a6c",
       "version_major": 2,
       "version_minor": 0
      },
      "text/plain": [
       "Button(description='Apply Goal Point', layout=Layout(grid_area='b', width='auto'), style=ButtonStyle(button_co…"
      ]
     },
     "metadata": {},
     "output_type": "display_data"
    }
   ],
   "source": [
    "print(\"enter goal position in format x,y:\")\n",
    "st = SendTarget()\n",
    "st.main()\n",
    "st.b"
   ]
  },
  {
   "cell_type": "code",
   "execution_count": 24,
   "id": "bc6f3021",
   "metadata": {
    "scrolled": false
   },
   "outputs": [
    {
     "data": {
      "application/vnd.jupyter.widget-view+json": {
       "model_id": "083dfbf0b5e2427d9b51438d5792213b",
       "version_major": 2,
       "version_minor": 0
      },
      "image/png": "[encoded data removed]",
      "text/html": [
       "\n",
       "            <div style=\"display: inline-block;\">\n",
       "                <div class=\"jupyter-widgets widget-label\" style=\"text-align: center;\">\n",
       "                    Figure\n",
       "                </div>\n",
       "                <img src='data:image/png;base64,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' width=800.0/>\n",
       "            </div>\n",
       "        "
      ],
      "text/plain": [
       "Canvas(toolbar=Toolbar(toolitems=[('Home', 'Reset original view', 'home', 'home'), ('Back', 'Back to previous …"
      ]
     },
     "metadata": {},
     "output_type": "display_data"
    },
    {
     "data": {
      "application/vnd.jupyter.widget-view+json": {
       "model_id": "6249a42e36f64d59851381d3b9732ded",
       "version_major": 2,
       "version_minor": 0
      },
      "text/plain": [
       "Button(description='Reload Plot', layout=Layout(grid_area='b', width='auto'), style=ButtonStyle(button_color='…"
      ]
     },
     "metadata": {},
     "output_type": "display_data"
    }
   ],
   "source": [
    "ta = TargetsAnalysis()\n",
    "ta.plot_init()\n",
    "ta.b.on_click(ta.on_button_clicked)\n",
    "plt.show()\n",
    "ta.b"
   ]
  },
  {
   "cell_type": "markdown",
   "id": "862abc2c",
   "metadata": {},
   "source": [
    "## 2. Move with directions (for the second and third modes)\n",
    "it can implement two behaviours on robot:\n",
    "1. moving without obstacle avoidance: user can move the robot using keys it publishes the desired movements to cmd_vel topic\n",
    "\n",
    "2. moveing with obstacle avoidance: subscribes scan topic and uses it to detect obstacles. user can move the robot using keys and it also avoids the robot from colliding the obstacles"
   ]
  },
  {
   "cell_type": "code",
   "execution_count": 15,
   "id": "f6525668",
   "metadata": {
    "scrolled": true
   },
   "outputs": [
    {
     "name": "stdout",
     "output_type": "stream",
     "text": [
      "input direction:\n"
     ]
    },
    {
     "data": {
      "application/vnd.jupyter.widget-view+json": {
       "model_id": "35bb2752ceb44961b5521ea3e2d803ac",
       "version_major": 2,
       "version_minor": 0
      },
      "text/plain": [
       "HBox(children=(VBox(children=(Button(description='u', layout=Layout(grid_area='b1', width='auto'), style=Butto…"
      ]
     },
     "metadata": {},
     "output_type": "display_data"
    }
   ],
   "source": [
    "print(\"input direction:\")\n",
    "tb = TeleopButtons()\n",
    "tb.main()\n",
    "HBox([VBox([tb.b1, tb.b2, tb.b3]),VBox([tb.b4, tb.b5, tb.b6]),VBox([tb.b7, tb.b8, tb.b9])])"
   ]
  },
  {
   "cell_type": "markdown",
   "id": "69424939",
   "metadata": {},
   "source": [
    "## Visualiser\n",
    "In this jupyter notebook there is also the posibility of visualizing the position of the robot in a 2D plot. Robot position can be read from the topic **/odom**. "
   ]
  },
  {
   "cell_type": "code",
   "execution_count": 16,
   "id": "bdd2138a",
   "metadata": {
    "scrolled": true
   },
   "outputs": [
    {
     "data": {
      "application/vnd.jupyter.widget-view+json": {
       "model_id": "5828233be53a4660b44c40e83d2baab7",
       "version_major": 2,
       "version_minor": 0
      },
      "image/png": "[encoded data removed]",
      "text/html": [
       "\n",
       "            <div style=\"display: inline-block;\">\n",
       "                <div class=\"jupyter-widgets widget-label\" style=\"text-align: center;\">\n",
       "                    Figure\n",
       "                </div>\n",
       "                <img src='data:image/png;base64,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' width=500.0/>\n",
       "            </div>\n",
       "        "
      ],
      "text/plain": [
       "Canvas(toolbar=Toolbar(toolitems=[('Home', 'Reset original view', 'home', 'home'), ('Back', 'Back to previous …"
      ]
     },
     "metadata": {},
     "output_type": "display_data"
    }
   ],
   "source": [
    "%matplotlib widget\n",
    "plt.style.use('ggplot')\n",
    "vis = Visualiser()\n",
    "sub = rospy.Subscriber('/odom', Odometry, vis.odom_callback)\n",
    "ani = FuncAnimation(vis.fig, vis.update_plot, init_func=vis.plot_init,blit=True)\n",
    "plt.show(block=True)"
   ]
  },
  {
   "cell_type": "markdown",
   "id": "f27e8576",
   "metadata": {},
   "source": [
    "## 3D Visualization\n",
    "With the help of jupyros module, we can visulize the laser scanner data in jupyter notebook. After taking an instance of **ros3d.Viewer** we make a connection between jupyter and rosserver and then save the tf_client, laserview, mapview, path and robots urdf from their topics into their corresponding variables we can initilize the process."
   ]
  },
  {
   "cell_type": "code",
   "execution_count": 17,
   "id": "11330279",
   "metadata": {
    "scrolled": true
   },
   "outputs": [
    {
     "data": {
      "application/vnd.jupyter.widget-view+json": {
       "model_id": "6692311ae78a467d89e50c3e110cdb29",
       "version_major": 2,
       "version_minor": 0
      },
      "text/plain": [
       "Viewer(objects=[GridModel(), LaserScan(ros=ROSConnection(url='ws://localhost:9090'), tf_client=TFClient(fixed_…"
      ]
     },
     "metadata": {},
     "output_type": "display_data"
    }
   ],
   "source": [
    "v = jr.ros3d.Viewer()\n",
    "rc = jr.ros3d.ROSConnection(url=\"ws://localhost:9090\")\n",
    "tf_client = jr.ros3d.TFClient(ros=rc, fixed_frame='map')\n",
    "laser_view = jr.ros3d.LaserScan(topic=\"/scan\", ros=rc, tf_client=tf_client)\n",
    "map_view = jr.ros3d.OccupancyGrid(topic=\"/map\", ros=rc, tf_client=tf_client)\n",
    "path = jr.ros3d.Path(topic=\"/move_base/NavfnROS/plan\", ros=rc,\n",
    "tf_client=tf_client)\n",
    "urdf = jr.ros3d.URDFModel(ros=rc, tf_client=tf_client,\n",
    "path=os.environ.get('JUPYROS_ASSETS_URL', 'http://localhost:3000'))\n",
    "g = jr.ros3d.GridModel()\n",
    "v.objects = [g, laser_view, map_view, path, urdf]\n",
    "v"
   ]
  }
 ],
 "metadata": {
  "kernelspec": {
   "display_name": "Python 3 (ipykernel)",
   "language": "python",
   "name": "python3"
  },
  "language_info": {
   "codemirror_mode": {
    "name": "ipython",
    "version": 3
   },
   "file_extension": ".py",
   "mimetype": "text/x-python",
   "name": "python",
   "nbconvert_exporter": "python",
   "pygments_lexer": "ipython3",
   "version": "3.8.10"
  }
 },
 "nbformat": 4,
 "nbformat_minor": 5
}
