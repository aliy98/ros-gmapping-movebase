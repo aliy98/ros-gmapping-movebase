{
 "cells": [
  {
   "cell_type": "markdown",
   "id": "438b26c7",
   "metadata": {},
   "source": [
    "# ros_gmapping_movebase\n",
    "\n",
    "This ROS package provides three behaviors for controlling a simulated mobile robot using gmapping and movebase rospackages. You can get to know more about the detatils of the source code using this documentation: https://aliy98.github.io/ros_gmapping_movebase/"
   ]
  },
  {
   "cell_type": "markdown",
   "id": "1f8e2c8b",
   "metadata": {},
   "source": [
    "# master node\n",
    " gets user request to choose robot behaviour using robot_state rosparam\n",
    " "
   ]
  },
  {
   "cell_type": "code",
   "execution_count": 33,
   "id": "eebd0615",
   "metadata": {},
   "outputs": [],
   "source": [
    "import ipywidgets as widgets"
   ]
  },
  {
   "cell_type": "code",
   "execution_count": 36,
   "id": "af19a644",
   "metadata": {},
   "outputs": [
    {
     "ename": "AttributeError",
     "evalue": "'RadioButtons' object has no attribute 'show'",
     "output_type": "error",
     "traceback": [
      "\u001b[0;31m---------------------------------------------------------------------------\u001b[0m",
      "\u001b[0;31mAttributeError\u001b[0m                            Traceback (most recent call last)",
      "Input \u001b[0;32mIn [36]\u001b[0m, in \u001b[0;36m<cell line: 8>\u001b[0;34m()\u001b[0m\n\u001b[1;32m      1\u001b[0m w \u001b[38;5;241m=\u001b[39m widgets\u001b[38;5;241m.\u001b[39mRadioButtons(\n\u001b[1;32m      2\u001b[0m     options\u001b[38;5;241m=\u001b[39m[\u001b[38;5;124m'\u001b[39m\u001b[38;5;124m1. movebase client\u001b[39m\u001b[38;5;124m'\u001b[39m, \u001b[38;5;124m'\u001b[39m\u001b[38;5;124m2. teleop keyboard\u001b[39m\u001b[38;5;124m'\u001b[39m, \u001b[38;5;124m'\u001b[39m\u001b[38;5;124m3. assisted teleop\u001b[39m\u001b[38;5;124m'\u001b[39m],\n\u001b[1;32m      3\u001b[0m     value\u001b[38;5;241m=\u001b[39m\u001b[38;5;124m'\u001b[39m\u001b[38;5;124m1. movebase client\u001b[39m\u001b[38;5;124m'\u001b[39m, \u001b[38;5;66;03m# Defaults to 'pineapple'\u001b[39;00m\n\u001b[0;32m   (...)\u001b[0m\n\u001b[1;32m      6\u001b[0m     disabled\u001b[38;5;241m=\u001b[39m\u001b[38;5;28;01mFalse\u001b[39;00m\n\u001b[1;32m      7\u001b[0m )\n\u001b[0;32m----> 8\u001b[0m \u001b[43mw\u001b[49m\u001b[38;5;241;43m.\u001b[39;49m\u001b[43mshow\u001b[49m()\n",
      "\u001b[0;31mAttributeError\u001b[0m: 'RadioButtons' object has no attribute 'show'"
     ]
    }
   ],
   "source": [
    "w = widgets.RadioButtons(\n",
    "    options=['1. movebase client', '2. teleop keyboard', '3. assisted teleop'],\n",
    "    value='1. movebase client', # Defaults to 'pineapple'\n",
    "#    layout={'width': 'max-content'}, # If the items' names are long\n",
    "    description='',\n",
    "    disabled=False\n",
    ")\n",
    "w.show()"
   ]
  },
  {
   "cell_type": "code",
   "execution_count": 32,
   "id": "d37d36bc",
   "metadata": {},
   "outputs": [
    {
     "name": "stdout",
     "output_type": "stream",
     "text": [
      "1. movebase client\n"
     ]
    }
   ],
   "source": [
    "print(w.value)"
   ]
  },
  {
   "cell_type": "code",
   "execution_count": null,
   "id": "e27aedd1",
   "metadata": {},
   "outputs": [],
   "source": [
    "import rospy\n",
    "from std_srvs.srv import *"
   ]
  },
  {
   "cell_type": "code",
   "execution_count": null,
   "id": "9fe1b64a",
   "metadata": {},
   "outputs": [],
   "source": [
    "# changes robot's behaviour and sends the corresponding response to other three nodes\n",
    "def change_state():\n",
    "    if x == '1. movebase client':\n",
    "        rospy.set_param('robot_state', '1')\n",
    "    elif x == '2. teleop keyboard':\n",
    "        rospy.set_param('robot_state', '2')\n",
    "    elif x == '3. assisted teleop':\n",
    "        rospy.set_param('robot_state', '3')"
   ]
  },
  {
   "cell_type": "code",
   "execution_count": null,
   "id": "bb83bb1e",
   "metadata": {},
   "outputs": [],
   "source": [
    "def main():\n",
    "    rospy.init_node('master')\n",
    "    rospy.set_param('robot_state', '0')\n",
    "    rate = rospy.Rate(20)\n",
    "    while not rospy.is_shutdown():\n",
    "        if rospy.get_param('robot_state')=='0':\n",
    "            change_state()\n",
    "        else:\n",
    "            rate.sleep()\n",
    "            continue\n",
    "        rate.sleep()\n",
    "\n",
    "# If the python node is executed as main process (sourced directly)\n",
    "if __name__ == '__main__':\n",
    "    main()"
   ]
  },
  {
   "cell_type": "markdown",
   "id": "86909f5f",
   "metadata": {},
   "source": [
    "## 1. movebase client\n"
   ]
  },
  {
   "cell_type": "code",
   "execution_count": null,
   "id": "9ffc1743",
   "metadata": {},
   "outputs": [],
   "source": []
  },
  {
   "cell_type": "markdown",
   "id": "862abc2c",
   "metadata": {},
   "source": [
    "## 2. teleop twist keyboard"
   ]
  },
  {
   "cell_type": "markdown",
   "id": "e8709bee",
   "metadata": {},
   "source": [
    "## 3.teleop twist keyboard with obstacle avoidance"
   ]
  }
 ],
 "metadata": {
  "kernelspec": {
   "display_name": "Python 3 (ipykernel)",
   "language": "python",
   "name": "python3"
  },
  "language_info": {
   "codemirror_mode": {
    "name": "ipython",
    "version": 3
   },
   "file_extension": ".py",
   "mimetype": "text/x-python",
   "name": "python",
   "nbconvert_exporter": "python",
   "pygments_lexer": "ipython3",
   "version": "3.8.10"
  }
 },
 "nbformat": 4,
 "nbformat_minor": 5
}
